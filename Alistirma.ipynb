{
 "cells": [
  {
   "cell_type": "markdown",
   "metadata": {},
   "source": [
    "# Veri Tipi Değiştirme   "
   ]
  },
  {
   "cell_type": "code",
   "execution_count": null,
   "metadata": {},
   "outputs": [],
   "source": [
    "a = \"5\"\n",
    "b= 10\n",
    "print(\"Sayi toplam : \",int(a)+b)\n",
    "print(\"String Toplam  : \",a+str(b))"
   ]
  },
  {
   "cell_type": "markdown",
   "metadata": {},
   "source": [
    "# LİSTE KOMUTLARI  "
   ]
  },
  {
   "cell_type": "code",
   "execution_count": null,
   "metadata": {},
   "outputs": [],
   "source": [
    "liste=[1,5,2,3,4]\n",
    "print(\"Uzunluk : \",len(liste))\n",
    "print(\"Üçüncü eleman  : \",liste[2])\n",
    "print(\"Son eleman : \",liste[-1])\n",
    "print(\"0 dan 2 ye : \",liste[0:3])\n",
    "liste.append(9)\n",
    "print(\"9 eklendi : \",liste)\n",
    "liste.remove(2)\n",
    "print(\"2 silindi : \",liste)\n",
    "liste.sort()\n",
    "print(\"Sirali liste : \",liste)\n",
    "liste.insert(2,11)\n",
    "print(\"2. indexe 11 eklendi : \",liste)\n",
    "print(\"kaç 13 var \",liste.count(13))\n",
    "print(\"5 kaçıncı indexte \",liste.index(5))\n"
   ]
  },
  {
   "cell_type": "markdown",
   "metadata": {},
   "source": [
    "# DİCTİONARY BASİCS "
   ]
  },
  {
   "cell_type": "code",
   "execution_count": null,
   "metadata": {},
   "outputs": [],
   "source": [
    "ing_sozluk = {\"dil\": \"language\", \"bilgisayar\": \"computer\", \"masa\": \"table\"}\n",
    "print(ing_sozluk.keys())\n",
    "print(ing_sozluk.values())\n",
    "ing_sozluk[\"yellow\"]=\"sarı\"\n",
    "print(ing_sozluk)"
   ]
  },
  {
   "cell_type": "code",
   "execution_count": null,
   "metadata": {},
   "outputs": [],
   "source": [
    "ing_sözlük = {\"dil\": \"language\", \"bilgisayar\": \"computer\", \"masa\": \"table\"}\n",
    "\n",
    "sorgu = input(\"Lütfen anlamını öğrenmek istediğiniz kelimeyi yazınız:\")\n",
    "\n",
    "print(ing_sözlük.get(sorgu, \"Bu kelime veritabanımızda yoktur!\"))"
   ]
  },
  {
   "cell_type": "markdown",
   "metadata": {},
   "source": [
    "# TUPLE  "
   ]
  },
  {
   "cell_type": "code",
   "execution_count": null,
   "metadata": {},
   "outputs": [],
   "source": [
    "t = (1,2,3,3,4,5,6)\n",
    "a = 1,2,3,4,5,6\n",
    "print(\"a nin tipi : \",type(a))\n",
    "t.count(3)"
   ]
  },
  {
   "cell_type": "markdown",
   "metadata": {},
   "source": [
    "# Hesap Makinesi "
   ]
  },
  {
   "cell_type": "code",
   "execution_count": null,
   "metadata": {},
   "outputs": [],
   "source": [
    "a=int(input(\"1. sayiyi giriniz :  \"))\n",
    "b=int(input(\"2. sayiyi giriniz  :  \"))\n",
    "\n",
    "print(\"İslem Seçiniz\")\n",
    "print(\"1 = Toplama\")\n",
    "print(\"2 = Çıkarma\")\n",
    "print(\"3 = Çarpma\")\n",
    "print(\"4 = Bölme\")\n",
    "\n",
    "islem=int(input(\"İslem Seçiniz : \"))\n",
    "\n",
    "if islem ==1:\n",
    "    sonuc=a+b\n",
    "    print(\"{} ve {}  nın toplamı = \".format(a,b),sonuc)\n",
    "elif islem ==2:\n",
    "    sonuc=a-b\n",
    "    print(\"{} ve {}  nın farkı = \".format(a,b),sonuc)\n",
    "elif islem ==3:\n",
    "    sonuc=a*b\n",
    "    print(\"{} ve {}  nın çarpımı = \".format(a,b),sonuc)\n",
    "elif islem ==4:\n",
    "    sonuc=a/b\n",
    "    print(\"{} ve {}  nın bölümü = \".format(a,b),sonuc)\n",
    "else:\n",
    "    print(\"Geçerli işlem giriniz !!! \")"
   ]
  },
  {
   "cell_type": "markdown",
   "metadata": {},
   "source": [
    "# Faktoriyel  "
   ]
  },
  {
   "cell_type": "code",
   "execution_count": null,
   "metadata": {},
   "outputs": [],
   "source": [
    "x=int(input(\"Sayi giriniz : \"))\n",
    "\n",
    "faktoriyel=1\n",
    "\n",
    "for i in range(faktoriyel,x+1):\n",
    "    faktoriyel=faktoriyel*i\n",
    "print(\"Faktoriyel : \",faktoriyel)"
   ]
  },
  {
   "cell_type": "markdown",
   "metadata": {},
   "source": [
    "# Maxi Bulma "
   ]
  },
  {
   "cell_type": "code",
   "execution_count": null,
   "metadata": {},
   "outputs": [],
   "source": [
    "liste2=[1,5,9,2354,123456,213246,2222,200,985]\n",
    "\n",
    "maxi=-10000000000\n",
    "for each in liste2:\n",
    "    if(each>maxi):\n",
    "        maxi=each\n",
    "    else:\n",
    "        continue\n",
    "print(maxi)"
   ]
  },
  {
   "cell_type": "markdown",
   "metadata": {},
   "source": [
    "# TOPLAM "
   ]
  },
  {
   "cell_type": "code",
   "execution_count": null,
   "metadata": {},
   "outputs": [],
   "source": [
    "a=int(input(\"Sayi giriniz : \"))\n",
    "b=int(input(\"Sayi giriniz : \"))\n",
    "c=int(input(\"Sayi giriniz : \"))\n",
    "\n",
    "liste=[a,b,c]\n",
    "\n",
    "toplam=0\n",
    "\n",
    "for each in liste:\n",
    "    toplam=toplam+each\n",
    "    \n",
    "print(toplam)"
   ]
  },
  {
   "cell_type": "markdown",
   "metadata": {},
   "source": [
    "# YÜZYIL HESAPLAMA"
   ]
  },
  {
   "cell_type": "code",
   "execution_count": null,
   "metadata": {},
   "outputs": [],
   "source": [
    "yil=int(input(\"Yil giriniz : \"))\n",
    "\n",
    "str_yil=str(yil)\n",
    "\n",
    "if (len(str_yil)<3):\n",
    "    yy=1\n",
    "    print(\"Yüzyıl\",yy)\n",
    "elif (len(str_yil)==3):\n",
    "    yy=int(str_yil[0])+1\n",
    "    print(\"Yüzyıl : \",yy)\n",
    "elif (len(str_yil)==4):\n",
    "    yy=int(str_yil[0:2])+1\n",
    "    print(\"Yüzyıl\",yy)\n",
    "else:\n",
    "    print(\"Geçeri değer giriniz \")"
   ]
  },
  {
   "cell_type": "markdown",
   "metadata": {},
   "source": [
    "# WHİLE  "
   ]
  },
  {
   "cell_type": "code",
   "execution_count": null,
   "metadata": {},
   "outputs": [],
   "source": [
    "i=0 \n",
    "while i !=5:\n",
    "    print(\"i nin degeri : \",i)\n",
    "    i+=1\n",
    "print(i ,\" 5 e eşittir\")"
   ]
  },
  {
   "cell_type": "markdown",
   "metadata": {},
   "source": [
    "# TEK ÇİFT"
   ]
  },
  {
   "cell_type": "code",
   "execution_count": null,
   "metadata": {},
   "outputs": [],
   "source": [
    "a=0\n",
    "while a<11:\n",
    "    a+=1\n",
    "    islem=list(divmod(a,2))[1]\n",
    "    if islem==0:\n",
    "        print(\"{} Çift Sayidir\".format(a))\n",
    "    elif islem==1:\n",
    "        print(\"{} Tek Sayidir\".format(a))\n",
    "    continue"
   ]
  },
  {
   "cell_type": "markdown",
   "metadata": {},
   "source": [
    "# FONKSİYONLAR "
   ]
  },
  {
   "cell_type": "code",
   "execution_count": null,
   "metadata": {},
   "outputs": [],
   "source": [
    "def atoplambkare(a,b):\n",
    "    atoplambkare= a**2 + 2*a*b + b**2\n",
    "    return atoplambkare"
   ]
  },
  {
   "cell_type": "markdown",
   "metadata": {},
   "source": [
    "# BOOLE FONKSİYONLARI"
   ]
  },
  {
   "cell_type": "code",
   "execution_count": null,
   "metadata": {},
   "outputs": [],
   "source": [
    "t = True\n",
    "f = False\n",
    "print(type(t)) \n",
    "print(t and f) \n",
    "print(t or f)  \n",
    "print(not t)   \n",
    "print(t != f)"
   ]
  }
 ],
 "metadata": {
  "kernelspec": {
   "display_name": "Python 3",
   "language": "python",
   "name": "python3"
  },
  "language_info": {
   "codemirror_mode": {
    "name": "ipython",
    "version": 3
   },
   "file_extension": ".py",
   "mimetype": "text/x-python",
   "name": "python",
   "nbconvert_exporter": "python",
   "pygments_lexer": "ipython3",
   "version": "3.7.4"
  }
 },
 "nbformat": 4,
 "nbformat_minor": 2
}
